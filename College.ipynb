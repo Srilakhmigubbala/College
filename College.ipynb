{
  "nbformat": 4,
  "nbformat_minor": 0,
  "metadata": {
    "colab": {
      "name": "College.ipynb",
      "provenance": [],
      "collapsed_sections": [],
      "include_colab_link": true
    },
    "kernelspec": {
      "name": "python3",
      "display_name": "Python 3"
    }
  },
  "cells": [
    {
      "cell_type": "markdown",
      "metadata": {
        "id": "view-in-github",
        "colab_type": "text"
      },
      "source": [
        "<a href=\"https://colab.research.google.com/github/Srilakhmigubbala/College/blob/main/College.ipynb\" target=\"_parent\"><img src=\"https://colab.research.google.com/assets/colab-badge.svg\" alt=\"Open In Colab\"/></a>"
      ]
    },
    {
      "cell_type": "markdown",
      "metadata": {
        "id": "BI65ssqirvlP"
      },
      "source": [
        "Team members\n",
        "\n",
        "1.   Name 1 = N. Nagakrishna\n",
        "2.   Name 2 = D. Mamatha\n",
        "3.   Name 3 = G. Srilakshmi\n"
      ]
    },
    {
      "cell_type": "markdown",
      "metadata": {
        "id": "9nZQY7dLvDHk"
      },
      "source": [
        "My first colab on chatbot"
      ]
    },
    {
      "cell_type": "markdown",
      "metadata": {
        "id": "2f-V0fM6ruh-"
      },
      "source": [
        "*italicized text*"
      ]
    },
    {
      "cell_type": "code",
      "metadata": {
        "id": "2aTTTh_QLFtE"
      },
      "source": [
        "Documentation\n",
        "\"\"\"\n",
        "This is a program for chatbot \n",
        "1. The bot will start with a greeting and ask for name of the person\n",
        "2. The bot will greet and welcome the person\n",
        "3. Bot will ask what a peerson want to do, it will offer a choice of things based upon what the bot is designed for\n",
        "4. It will respond to users input appropriately\n",
        "\"\"\""
      ],
      "execution_count": null,
      "outputs": []
    },
    {
      "cell_type": "code",
      "metadata": {
        "id": "505qkCcivIDy"
      },
      "source": [
        "import random\n",
        "def greet_and_introduce():\n",
        "  responses = [\n",
        "          \"Hi there, Its wonderful to meet u\",\n",
        "          \"Hi there, glad to chat with u\"\n",
        "          ]\n",
        "  return random.choice(responses)\n",
        "\n"
      ],
      "execution_count": 12,
      "outputs": []
    },
    {
      "cell_type": "code",
      "metadata": {
        "id": "IFCdUIV43iB1"
      },
      "source": [
        "def get_timeofday_greeting():\n",
        "    current_time = datetime.now()\n",
        "    timeofday_greeting = \"Good Morning\"\n",
        "    if current_time.hour > 12 and current_time.hour < 17:\n",
        "        timeofday_greeting = \"Good afternoon\"\n",
        "    elif current_time.hour > 17 and current_time.hour < 22:\n",
        "        timeofday_greeting = \"Good Evening\"\n",
        "    elif current_time.hour>= 22 :\n",
        "        timeofday_greeting = \"Hi, Thats late\"\n",
        "    return timeofday_greeting\n",
        "\n"
      ],
      "execution_count": 39,
      "outputs": []
    },
    {
      "cell_type": "code",
      "metadata": {
        "id": "TiicUdH3ZzNt"
      },
      "source": [
        "  \n",
        "def welcome(name):\n",
        "    messages = [\n",
        "      \"Nice to meet u,'Let us chat\",\n",
        "      \"Wonderful, It is my pleasure to chat with you\"\n",
        "    ]\n",
        "\n",
        "    return f\"{get_timeofday_greeting()}, {random.choice(messages)}\""
      ],
      "execution_count": 44,
      "outputs": []
    },
    {
      "cell_type": "code",
      "metadata": {
        "id": "bmXwunWVcRQv"
      },
      "source": [
        "def show_menu():\n",
        "    print(\"1. CSE\")\n",
        "    print(\"2. ECE\")\n",
        "    print(\"3. EEE\")\n",
        "    print(\"4. IT\")\n",
        "    print(\"5. ME\")\n",
        "    print(\"6. CIVIL\")\n",
        "    try:\n",
        "      return int(input(\"Enter your choice [1-6]\"))\n",
        "    except:\n",
        "      print(\"only enter choice from 1, 2, 3, 4, 5 and 6\")"
      ],
      "execution_count": 50,
      "outputs": []
    },
    {
      "cell_type": "code",
      "metadata": {
        "id": "52rwNCn4fyHX"
      },
      "source": [
        "def bot():\n",
        "    which department are you in?\n",
        "    thank you for the details"
      ],
      "execution_count": null,
      "outputs": []
    }
  ]
}